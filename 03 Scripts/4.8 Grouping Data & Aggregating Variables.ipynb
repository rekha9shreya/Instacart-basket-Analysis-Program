{
 "cells": [
  {
   "cell_type": "markdown",
   "id": "635555d1",
   "metadata": {},
   "source": [
    "# Task 4.8: Grouping Data & Aggregating"
   ]
  },
  {
   "cell_type": "markdown",
   "id": "5648baa5",
   "metadata": {},
   "source": [
    "## Import Libraries"
   ]
  },
  {
   "cell_type": "code",
   "execution_count": null,
   "id": "30733b6c",
   "metadata": {},
   "outputs": [],
   "source": [
    "#import Libraries\n",
    "import pandas as pd\n",
    "import numpy as np\n",
    "import os"
   ]
  },
  {
   "cell_type": "markdown",
   "id": "397db22e",
   "metadata": {},
   "source": [
    "## Import Data"
   ]
  },
  {
   "cell_type": "code",
   "execution_count": null,
   "id": "24c156d7",
   "metadata": {},
   "outputs": [],
   "source": [
    "#create path\n",
    "path = r\"C:\\Users\\bhimc\\Documents\\Instacart Basket Analysis (Career Foundry Rekha)\""
   ]
  },
  {
   "cell_type": "code",
   "execution_count": null,
   "id": "9ea37bf4",
   "metadata": {},
   "outputs": [],
   "source": [
    "path"
   ]
  },
  {
   "cell_type": "code",
   "execution_count": null,
   "id": "94144ef0",
   "metadata": {},
   "outputs": [],
   "source": [
    "# import dataframe\n",
    "ords_prods_merge = pd.read_pickle(os.path.join(path, '02 data', 'Prepared data', 'orders_products_merged_derived.pkl'))"
   ]
  },
  {
   "cell_type": "code",
   "execution_count": null,
   "id": "5e187660",
   "metadata": {},
   "outputs": [],
   "source": [
    "# Check the output of imported dataframe\n",
    "ords_prods_merge.head()"
   ]
  },
  {
   "cell_type": "markdown",
   "id": "57c6ec90",
   "metadata": {},
   "source": [
    "### 2. \"Find the aggregated mean of the “order_number” column grouped by “department_id” for a subset of your dataframe\""
   ]
  },
  {
   "cell_type": "code",
   "execution_count": null,
   "id": "5f19208f",
   "metadata": {},
   "outputs": [],
   "source": [
    "# -Split the data into groups based on \"department_id\"\n",
    "# - apply the agg() function to calculate mean of \"order_number\" column\n",
    "ords_prods_merge.groupby('department_id').agg({'order_number' :['mean']})"
   ]
  },
  {
   "cell_type": "markdown",
   "id": "ea78ea96",
   "metadata": {},
   "source": [
    "### 3. \"How do the results for the entire dataframe differ from those of the subset?\""
   ]
  },
  {
   "cell_type": "markdown",
   "id": "5211c51d",
   "metadata": {},
   "source": [
    "#### When looking at the mean order number for the complete data frame rather than a subset, the first thing I realize is that there are more departments. Looking at the complete data frame, each department's mean order numbers appear to be greater. "
   ]
  },
  {
   "cell_type": "markdown",
   "id": "d7f476f0",
   "metadata": {},
   "source": [
    "### 4.\" creating a loyalty flag for existing customers using the transform() and loc() functions.\""
   ]
  },
  {
   "cell_type": "code",
   "execution_count": null,
   "id": "e6ff2c95",
   "metadata": {},
   "outputs": [],
   "source": [
    "# Split the data into groups based on the “user_id” column.\n",
    "#Apply the transform() function on the “order_number” column to generate the maximum orders for each user.\n",
    "#Create a new column, “max_order,” into which you’ll place the results of your aggregation.\n",
    "ords_prods_merge['max_order'] = ords_prods_merge.groupby(['user_id'])['order_number'].transform(np.max)"
   ]
  },
  {
   "cell_type": "code",
   "execution_count": null,
   "id": "0cb68f36",
   "metadata": {},
   "outputs": [],
   "source": [
    "# Check the new dataframe\n",
    "ords_prods_merge.head()"
   ]
  },
  {
   "cell_type": "markdown",
   "id": "8a668529",
   "metadata": {},
   "source": [
    "#### use loc() function to create a loyalty_flag column with given criteria."
   ]
  },
  {
   "cell_type": "code",
   "execution_count": null,
   "id": "f14fa1d5",
   "metadata": {},
   "outputs": [],
   "source": [
    "ords_prods_merge.loc[ords_prods_merge['max_order'] >40, 'loyalty_flag'] = 'Loyal customer'"
   ]
  },
  {
   "cell_type": "code",
   "execution_count": null,
   "id": "7a7851c5",
   "metadata": {},
   "outputs": [],
   "source": [
    "ords_prods_merge.loc[(ords_prods_merge['max_order'] <=40) & (ords_prods_merge['max_order'] >10), 'loyalty_flag'] = 'Regular customer'"
   ]
  },
  {
   "cell_type": "code",
   "execution_count": null,
   "id": "6dfba0aa",
   "metadata": {},
   "outputs": [],
   "source": [
    "ords_prods_merge.loc[ords_prods_merge['max_order'] <=10, 'loyalty_flag'] = 'New customer'"
   ]
  },
  {
   "cell_type": "code",
   "execution_count": null,
   "id": "a5cbbbef",
   "metadata": {},
   "outputs": [],
   "source": [
    "# Check the Frequency of new \"lpyalty_flag\" using Value_counts() Function\n",
    "ords_prods_merge['loyalty_flag']. value_counts(dropna = False)"
   ]
  },
  {
   "cell_type": "code",
   "execution_count": null,
   "id": "a05dcd58",
   "metadata": {},
   "outputs": [],
   "source": [
    "# Check the newly created column\n",
    "ords_prods_merge.head()"
   ]
  },
  {
   "cell_type": "markdown",
   "id": "3f46235e",
   "metadata": {},
   "source": [
    "### 5. \"Use the loyalty flag you created and check the basic statistics of the product prices for each loyalty category (Loyal Customer, Regular Customer, and New Customer). What you’re trying to determine is whether the prices of products purchased by loyal customers differ from those purchased by regular or new customers.\""
   ]
  },
  {
   "cell_type": "code",
   "execution_count": null,
   "id": "bad7b40e",
   "metadata": {},
   "outputs": [],
   "source": [
    "#  use groupby() and agg() function to determine to basic statistics of spending habits by loyalty group in 3 different types.\n",
    "ords_prods_merge.groupby('loyalty_flag').agg({'prices': ['mean', 'min', 'max']})"
   ]
  },
  {
   "cell_type": "markdown",
   "id": "7fdba0ca",
   "metadata": {},
   "source": [
    "### Base on the above results shows that the Regular customer spent less than other customers."
   ]
  },
  {
   "cell_type": "markdown",
   "id": "728f84b0",
   "metadata": {},
   "source": [
    "### 6.\"The team now wants to target different types of spenders in their marketing campaigns. This can be achieved by looking at the prices of the items people are buying. Create a spending flag for each user based on the average price across all their orders using the following criteria:If the mean of the prices of products purchased by a user is lower than 10, then flag them as a “Low spender.”If the mean of the prices of products purchased by a user is higher than or equal to 10, then flag them as a “High spender.”"
   ]
  },
  {
   "cell_type": "code",
   "execution_count": null,
   "id": "8be4c144",
   "metadata": {},
   "outputs": [],
   "source": [
    "# Using the transform() Function to determine the mean of the prices of products purchased by each user\n",
    "ords_prods_merge['mean_product_price'] = ords_prods_merge.groupby(['user_id'])['prices'].transform(np.mean)"
   ]
  },
  {
   "cell_type": "code",
   "execution_count": null,
   "id": "a77f7c62",
   "metadata": {},
   "outputs": [],
   "source": [
    "# Check the output of newly created column\n",
    "ords_prods_merge[['user_id', 'mean_product_price']].head(10)"
   ]
  },
  {
   "cell_type": "markdown",
   "id": "23945b16",
   "metadata": {},
   "source": [
    "### Create a Spending_flag column using loc() function with following criteria:"
   ]
  },
  {
   "cell_type": "code",
   "execution_count": null,
   "id": "36b6cc8a",
   "metadata": {},
   "outputs": [],
   "source": [
    "ords_prods_merge.loc[ords_prods_merge['mean_product_price'] >= 10, 'spending_flag'] = 'High spender'"
   ]
  },
  {
   "cell_type": "code",
   "execution_count": null,
   "id": "23eabfa1",
   "metadata": {},
   "outputs": [],
   "source": [
    "ords_prods_merge.loc[ords_prods_merge['mean_product_price'] < 10, 'spending_flag'] = 'Low spender'"
   ]
  },
  {
   "cell_type": "code",
   "execution_count": null,
   "id": "3e0b0a11",
   "metadata": {},
   "outputs": [],
   "source": [
    "# Check the frequency of \"Spending_flag\" column\n",
    "ords_prods_merge['spending_flag'].value_counts(dropna = False)"
   ]
  },
  {
   "cell_type": "code",
   "execution_count": null,
   "id": "9cc411e0",
   "metadata": {},
   "outputs": [],
   "source": [
    "# Check the newly created column in updated Dataframe\n",
    "ords_prods_merge[['user_id', 'mean_product_price', 'spending_flag']].head()"
   ]
  },
  {
   "cell_type": "markdown",
   "id": "1d6b8b83",
   "metadata": {},
   "source": [
    "### 7.  \"In order to send relevant notifications to users within the app (for instance, asking users if they want to buy the same item again), the Instacart team wants you to determine frequent versus non-frequent customers. Create an order frequency flag that marks the regularity of a user’s ordering behavior according to the median in the “days_since_prior_order” column. The criteria for the flag should be as follows:If the median of “days_since_prior_order” is higher than 20, then the customer should be labeled a “Non-frequent customer.”If the median is higher than 10 and lower than or equal to 20, then the customer should be labeled a “Regular customer.”If the median is lower than or equal to 10, then the customer should be labeled a “Frequent customer.”"
   ]
  },
  {
   "cell_type": "code",
   "execution_count": null,
   "id": "c8b791cc",
   "metadata": {},
   "outputs": [],
   "source": [
    "# Using the groupby() 'user_id\" and transform() Function to determine the median of the “days_since_prior_order\" column \n",
    "# and assign the aggregation result of each user.\n",
    "ords_prods_merge['regularity'] = ords_prods_merge.groupby(['user_id'])['days_since_prior_order'].transform(np.median)"
   ]
  },
  {
   "cell_type": "code",
   "execution_count": null,
   "id": "ad06b0e6",
   "metadata": {},
   "outputs": [],
   "source": [
    "# Check the relevant columns of updated dataframe\n",
    "ords_prods_merge[['user_id', 'days_since_prior_order', 'regularity']].head()"
   ]
  },
  {
   "cell_type": "markdown",
   "id": "55797834",
   "metadata": {},
   "source": [
    "### Create an order frequency flag column based on following criteria using loc() function"
   ]
  },
  {
   "cell_type": "code",
   "execution_count": null,
   "id": "16ae6e6f",
   "metadata": {},
   "outputs": [],
   "source": [
    "ords_prods_merge.loc[ords_prods_merge['regularity'] > 20, 'order_frequency'] = 'Non-frequent customer'"
   ]
  },
  {
   "cell_type": "code",
   "execution_count": null,
   "id": "7e587001",
   "metadata": {},
   "outputs": [],
   "source": [
    "ords_prods_merge.loc[(ords_prods_merge['regularity'] <= 20) & (ords_prods_merge['regularity'] > 10), 'order_frequency'] = 'Regular customer'"
   ]
  },
  {
   "cell_type": "code",
   "execution_count": null,
   "id": "45a722b8",
   "metadata": {},
   "outputs": [],
   "source": [
    "ords_prods_merge.loc[ords_prods_merge['regularity'] <= 10, 'order_frequency'] = 'Frequent customer'"
   ]
  },
  {
   "cell_type": "code",
   "execution_count": null,
   "id": "0bdad114",
   "metadata": {},
   "outputs": [],
   "source": [
    "# Check frequency of value counts of new \"order_frequency\" column\n",
    "ords_prods_merge['order_frequency'].value_counts(dropna = False)"
   ]
  },
  {
   "cell_type": "code",
   "execution_count": null,
   "id": "57fd19ec",
   "metadata": {},
   "outputs": [],
   "source": [
    "# Check the output of the columns of updated data frame\n",
    "ords_prods_merge[['user_id', 'days_since_prior_order', 'regularity', 'order_frequency']].head()"
   ]
  },
  {
   "cell_type": "markdown",
   "id": "a06cf6ff",
   "metadata": {},
   "source": [
    "### 9. Export dataframe as a pickle file and store it correctly in “Prepared Data” folder."
   ]
  },
  {
   "cell_type": "code",
   "execution_count": null,
   "id": "85d077ec",
   "metadata": {},
   "outputs": [],
   "source": [
    "# Export derived data frame as pickle file\n",
    "ords_prods_merge.to_pickle(os.path.join(path, '02 Data','Prepared Data', 'ords_prods_grouped.pkl'))"
   ]
  },
  {
   "cell_type": "code",
   "execution_count": null,
   "id": "8c619c70",
   "metadata": {},
   "outputs": [],
   "source": []
  }
 ],
 "metadata": {
  "kernelspec": {
   "display_name": "Python 3 (ipykernel)",
   "language": "python",
   "name": "python3"
  },
  "language_info": {
   "codemirror_mode": {
    "name": "ipython",
    "version": 3
   },
   "file_extension": ".py",
   "mimetype": "text/x-python",
   "name": "python",
   "nbconvert_exporter": "python",
   "pygments_lexer": "ipython3",
   "version": "3.11.5"
  }
 },
 "nbformat": 4,
 "nbformat_minor": 5
}
