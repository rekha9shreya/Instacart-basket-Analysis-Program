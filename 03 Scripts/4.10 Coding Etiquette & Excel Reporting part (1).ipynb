{
 "cells": [
  {
   "cell_type": "markdown",
   "id": "720c1f9e",
   "metadata": {},
   "source": [
    "# Table of Contents (Task 4.10)"
   ]
  },
  {
   "cell_type": "markdown",
   "id": "2e9a889a",
   "metadata": {},
   "source": [
    "### 1. Import Liberaries and Dataframe"
   ]
  },
  {
   "cell_type": "markdown",
   "id": "3eaf4c88",
   "metadata": {},
   "source": [
    "### 2.Consider of Personally Identifiable Information (PII)"
   ]
  },
  {
   "cell_type": "markdown",
   "id": "0d74fa25",
   "metadata": {},
   "source": [
    "### 3. Regional Analysis"
   ]
  },
  {
   "cell_type": "markdown",
   "id": "1167dc31",
   "metadata": {},
   "source": [
    "### 4. Customer Flag"
   ]
  },
  {
   "cell_type": "markdown",
   "id": "a6d456fa",
   "metadata": {},
   "source": [
    "### 5. Create Customers profile and Department"
   ]
  },
  {
   "cell_type": "markdown",
   "id": "6dfb9418",
   "metadata": {},
   "source": [
    "## 1 import Libraries and Dataframe"
   ]
  },
  {
   "cell_type": "code",
   "execution_count": 2,
   "id": "4aa18665",
   "metadata": {},
   "outputs": [],
   "source": [
    "import pandas as pd\n",
    "import numpy as np\n",
    "import os\n",
    "import matplotlib.pyplot as plt\n",
    "import seaborn as sns\n",
    "import scipy"
   ]
  },
  {
   "cell_type": "code",
   "execution_count": 3,
   "id": "309c662d",
   "metadata": {},
   "outputs": [],
   "source": [
    "#import path of dataframe\n",
    "path = r\"C:\\Users\\bhimc\\Documents\\Instacart Basket Analysis (Career Foundry Rekha)\""
   ]
  },
  {
   "cell_type": "code",
   "execution_count": 3,
   "id": "0e1a8390",
   "metadata": {},
   "outputs": [
    {
     "data": {
      "text/plain": [
       "'C:\\\\Users\\\\bhimc\\\\Documents\\\\Instacart Basket Analysis (Career Foundry Rekha)'"
      ]
     },
     "execution_count": 3,
     "metadata": {},
     "output_type": "execute_result"
    }
   ],
   "source": [
    "path"
   ]
  },
  {
   "cell_type": "code",
   "execution_count": 4,
   "id": "6b77030e",
   "metadata": {},
   "outputs": [],
   "source": [
    "# Import insta_grocery dataframe\n",
    "insta_grocery = pd.read_pickle(os.path.join(path, '02 Data', 'Prepared Data', 'orders_products_all.pkl'))"
   ]
  },
  {
   "cell_type": "code",
   "execution_count": 5,
   "id": "b8d3aaa8",
   "metadata": {},
   "outputs": [
    {
     "data": {
      "text/html": [
       "<div>\n",
       "<style scoped>\n",
       "    .dataframe tbody tr th:only-of-type {\n",
       "        vertical-align: middle;\n",
       "    }\n",
       "\n",
       "    .dataframe tbody tr th {\n",
       "        vertical-align: top;\n",
       "    }\n",
       "\n",
       "    .dataframe thead th {\n",
       "        text-align: right;\n",
       "    }\n",
       "</style>\n",
       "<table border=\"1\" class=\"dataframe\">\n",
       "  <thead>\n",
       "    <tr style=\"text-align: right;\">\n",
       "      <th></th>\n",
       "      <th>order_id</th>\n",
       "      <th>user_id</th>\n",
       "      <th>order_number</th>\n",
       "      <th>orders_day_of_week</th>\n",
       "      <th>order_hour_of_day</th>\n",
       "      <th>days_since_prior_order</th>\n",
       "      <th>product_id</th>\n",
       "      <th>add_to_cart_order</th>\n",
       "      <th>reordered</th>\n",
       "      <th>product_name</th>\n",
       "      <th>...</th>\n",
       "      <th>First Name</th>\n",
       "      <th>Last Name</th>\n",
       "      <th>Gender</th>\n",
       "      <th>State</th>\n",
       "      <th>Age</th>\n",
       "      <th>date_joined</th>\n",
       "      <th>number_of_dependants</th>\n",
       "      <th>marital_status</th>\n",
       "      <th>income</th>\n",
       "      <th>_merge</th>\n",
       "    </tr>\n",
       "  </thead>\n",
       "  <tbody>\n",
       "    <tr>\n",
       "      <th>0</th>\n",
       "      <td>2539329</td>\n",
       "      <td>1</td>\n",
       "      <td>1.0</td>\n",
       "      <td>2</td>\n",
       "      <td>8</td>\n",
       "      <td>NaN</td>\n",
       "      <td>196</td>\n",
       "      <td>1</td>\n",
       "      <td>0</td>\n",
       "      <td>Soda</td>\n",
       "      <td>...</td>\n",
       "      <td>Linda</td>\n",
       "      <td>Nguyen</td>\n",
       "      <td>Female</td>\n",
       "      <td>Alabama</td>\n",
       "      <td>31</td>\n",
       "      <td>2/17/2019</td>\n",
       "      <td>3</td>\n",
       "      <td>married</td>\n",
       "      <td>40423</td>\n",
       "      <td>both</td>\n",
       "    </tr>\n",
       "    <tr>\n",
       "      <th>1</th>\n",
       "      <td>2398795</td>\n",
       "      <td>1</td>\n",
       "      <td>2.0</td>\n",
       "      <td>3</td>\n",
       "      <td>7</td>\n",
       "      <td>15.0</td>\n",
       "      <td>196</td>\n",
       "      <td>1</td>\n",
       "      <td>1</td>\n",
       "      <td>Soda</td>\n",
       "      <td>...</td>\n",
       "      <td>Linda</td>\n",
       "      <td>Nguyen</td>\n",
       "      <td>Female</td>\n",
       "      <td>Alabama</td>\n",
       "      <td>31</td>\n",
       "      <td>2/17/2019</td>\n",
       "      <td>3</td>\n",
       "      <td>married</td>\n",
       "      <td>40423</td>\n",
       "      <td>both</td>\n",
       "    </tr>\n",
       "    <tr>\n",
       "      <th>2</th>\n",
       "      <td>473747</td>\n",
       "      <td>1</td>\n",
       "      <td>3.0</td>\n",
       "      <td>3</td>\n",
       "      <td>12</td>\n",
       "      <td>21.0</td>\n",
       "      <td>196</td>\n",
       "      <td>1</td>\n",
       "      <td>1</td>\n",
       "      <td>Soda</td>\n",
       "      <td>...</td>\n",
       "      <td>Linda</td>\n",
       "      <td>Nguyen</td>\n",
       "      <td>Female</td>\n",
       "      <td>Alabama</td>\n",
       "      <td>31</td>\n",
       "      <td>2/17/2019</td>\n",
       "      <td>3</td>\n",
       "      <td>married</td>\n",
       "      <td>40423</td>\n",
       "      <td>both</td>\n",
       "    </tr>\n",
       "    <tr>\n",
       "      <th>3</th>\n",
       "      <td>2254736</td>\n",
       "      <td>1</td>\n",
       "      <td>4.0</td>\n",
       "      <td>4</td>\n",
       "      <td>7</td>\n",
       "      <td>29.0</td>\n",
       "      <td>196</td>\n",
       "      <td>1</td>\n",
       "      <td>1</td>\n",
       "      <td>Soda</td>\n",
       "      <td>...</td>\n",
       "      <td>Linda</td>\n",
       "      <td>Nguyen</td>\n",
       "      <td>Female</td>\n",
       "      <td>Alabama</td>\n",
       "      <td>31</td>\n",
       "      <td>2/17/2019</td>\n",
       "      <td>3</td>\n",
       "      <td>married</td>\n",
       "      <td>40423</td>\n",
       "      <td>both</td>\n",
       "    </tr>\n",
       "    <tr>\n",
       "      <th>4</th>\n",
       "      <td>431534</td>\n",
       "      <td>1</td>\n",
       "      <td>5.0</td>\n",
       "      <td>4</td>\n",
       "      <td>15</td>\n",
       "      <td>28.0</td>\n",
       "      <td>196</td>\n",
       "      <td>1</td>\n",
       "      <td>1</td>\n",
       "      <td>Soda</td>\n",
       "      <td>...</td>\n",
       "      <td>Linda</td>\n",
       "      <td>Nguyen</td>\n",
       "      <td>Female</td>\n",
       "      <td>Alabama</td>\n",
       "      <td>31</td>\n",
       "      <td>2/17/2019</td>\n",
       "      <td>3</td>\n",
       "      <td>married</td>\n",
       "      <td>40423</td>\n",
       "      <td>both</td>\n",
       "    </tr>\n",
       "  </tbody>\n",
       "</table>\n",
       "<p>5 rows × 27 columns</p>\n",
       "</div>"
      ],
      "text/plain": [
       "   order_id  user_id  order_number  orders_day_of_week  order_hour_of_day  \\\n",
       "0   2539329        1           1.0                   2                  8   \n",
       "1   2398795        1           2.0                   3                  7   \n",
       "2    473747        1           3.0                   3                 12   \n",
       "3   2254736        1           4.0                   4                  7   \n",
       "4    431534        1           5.0                   4                 15   \n",
       "\n",
       "   days_since_prior_order  product_id  add_to_cart_order  reordered  \\\n",
       "0                     NaN         196                  1          0   \n",
       "1                    15.0         196                  1          1   \n",
       "2                    21.0         196                  1          1   \n",
       "3                    29.0         196                  1          1   \n",
       "4                    28.0         196                  1          1   \n",
       "\n",
       "  product_name  ...  First Name  Last Name  Gender    State Age date_joined  \\\n",
       "0         Soda  ...       Linda     Nguyen  Female  Alabama  31   2/17/2019   \n",
       "1         Soda  ...       Linda     Nguyen  Female  Alabama  31   2/17/2019   \n",
       "2         Soda  ...       Linda     Nguyen  Female  Alabama  31   2/17/2019   \n",
       "3         Soda  ...       Linda     Nguyen  Female  Alabama  31   2/17/2019   \n",
       "4         Soda  ...       Linda     Nguyen  Female  Alabama  31   2/17/2019   \n",
       "\n",
       "  number_of_dependants marital_status income _merge  \n",
       "0                    3        married  40423   both  \n",
       "1                    3        married  40423   both  \n",
       "2                    3        married  40423   both  \n",
       "3                    3        married  40423   both  \n",
       "4                    3        married  40423   both  \n",
       "\n",
       "[5 rows x 27 columns]"
      ]
     },
     "execution_count": 5,
     "metadata": {},
     "output_type": "execute_result"
    }
   ],
   "source": [
    "insta_grocery.head()"
   ]
  },
  {
   "cell_type": "markdown",
   "id": "6883aded",
   "metadata": {},
   "source": [
    "## 2. Personally Identifiable Information (PII) data"
   ]
  },
  {
   "cell_type": "markdown",
   "id": "4e952951",
   "metadata": {},
   "source": [
    "### This Insta_grocery dataframe has contains PII data eg: name, Gender, State,marital_status, depandents, incomes. However, the dataframe doesn't include any sensitive data such as their living address, phone number, email etc. that could have their personal identity tracked. No extra measures are needed for this. "
   ]
  },
  {
   "cell_type": "markdown",
   "id": "c5db720e",
   "metadata": {},
   "source": [
    "## 3. Regional Analysis"
   ]
  },
  {
   "cell_type": "markdown",
   "id": "f3a8ad60",
   "metadata": {},
   "source": [
    "### \" Create a regional segmentation of the data, and create a “Region” column based on the “State” column and Determine whether there’s a difference in spending habits between the different U.S. regions.\""
   ]
  },
  {
   "cell_type": "markdown",
   "id": "c17c3d1c",
   "metadata": {},
   "source": [
    "#### Create a Region - wise State base on wikipedia link below\n",
    "\"https://simple.wikipedia.org/wiki/List_of_regions_of_the_United_States\""
   ]
  },
  {
   "cell_type": "code",
   "execution_count": 7,
   "id": "89138447",
   "metadata": {},
   "outputs": [],
   "source": [
    "# create a column 'region' based on the 'State' column for \"Northeast\" region\n",
    "\n",
    "insta_grocery.loc[(insta_grocery['State']=='Maine') | \n",
    "              (insta_grocery['State']=='New Hampshire')|\n",
    "              (insta_grocery['State']=='Vermont') |\n",
    "              (insta_grocery['State']=='Massachusetts') |\n",
    "              (insta_grocery['State']=='Rhode Island') |\n",
    "              (insta_grocery['State']=='Connecticut')|\n",
    "              (insta_grocery['State']=='New York')|\n",
    "              (insta_grocery['State']=='Pennsylvania')|\n",
    "              (insta_grocery['State']=='New Jersey') ,\n",
    "              'region']='Northeast'"
   ]
  },
  {
   "cell_type": "code",
   "execution_count": 8,
   "id": "e9404831",
   "metadata": {},
   "outputs": [],
   "source": [
    "# create a column 'region' based on the 'State' column for \"Midwest\" region\n",
    "\n",
    "insta_grocery.loc[(insta_grocery['State']=='Wisconsin') | \n",
    "              (insta_grocery['State']=='Michigan')|\n",
    "              (insta_grocery['State']=='Illinois') |\n",
    "              (insta_grocery['State']=='Indiana') |\n",
    "              (insta_grocery['State']=='Ohio') |\n",
    "              (insta_grocery['State']=='North Dakota')|\n",
    "              (insta_grocery['State']=='South Dakota')|\n",
    "              (insta_grocery['State']=='Nebraska')|\n",
    "              (insta_grocery['State']=='Kansas')|\n",
    "              (insta_grocery['State']=='Minnesota')|\n",
    "              (insta_grocery['State']=='Iowa')|\n",
    "              (insta_grocery['State']=='Missouri') ,\n",
    "              'region']='Midwest'"
   ]
  },
  {
   "cell_type": "code",
   "execution_count": 9,
   "id": "cb41b983",
   "metadata": {},
   "outputs": [],
   "source": [
    "# create a column 'region' based on the 'State' column for \"South\" region\n",
    "\n",
    "insta_grocery.loc[(insta_grocery['State']=='Delaware')|\n",
    "              (insta_grocery['State']=='Maryland')|\n",
    "              (insta_grocery['State']=='District of Columbia')|\n",
    "              (insta_grocery['State']=='Virginia')|\n",
    "              (insta_grocery['State']=='West Virginia')|\n",
    "              (insta_grocery['State']=='North Carolina')|\n",
    "              (insta_grocery['State']=='South Carolina')|\n",
    "              (insta_grocery['State']=='Georgia')|\n",
    "              (insta_grocery['State']=='Florida')|\n",
    "              (insta_grocery['State']=='Kentucky')|\n",
    "              (insta_grocery['State']=='Tennessee')|\n",
    "              (insta_grocery['State']=='Mississippi')|\n",
    "              (insta_grocery['State']=='Alabama')|\n",
    "              (insta_grocery['State']=='Oklahoma')|\n",
    "              (insta_grocery['State']=='Texas')|\n",
    "              (insta_grocery['State']=='Arkansas')|\n",
    "              (insta_grocery['State']=='Louisiana'),\n",
    "              'region']='South'"
   ]
  },
  {
   "cell_type": "code",
   "execution_count": 10,
   "id": "48abead7",
   "metadata": {},
   "outputs": [],
   "source": [
    "# create a column 'region' based on the 'State' column for West region\n",
    "\n",
    "insta_grocery.loc[(insta_grocery['State']=='Idaho')|\n",
    "              (insta_grocery['State']=='Montana')|\n",
    "              (insta_grocery['State']=='Wyoming')|\n",
    "              (insta_grocery['State']=='Nevada')|\n",
    "              (insta_grocery['State']=='Utah')|\n",
    "              (insta_grocery['State']=='Colorado')|\n",
    "              (insta_grocery['State']=='Arizona')|\n",
    "              (insta_grocery['State']=='New Mexico')|\n",
    "              (insta_grocery['State']=='Alaska')|\n",
    "              (insta_grocery['State']=='Washington')|\n",
    "              (insta_grocery['State']=='Oregon')|\n",
    "              (insta_grocery['State']=='California')|\n",
    "              (insta_grocery['State']=='Hawaii'),\n",
    "              'region']='West'"
   ]
  },
  {
   "cell_type": "code",
   "execution_count": 11,
   "id": "a93b177c",
   "metadata": {},
   "outputs": [
    {
     "data": {
      "text/plain": [
       "region\n",
       "South        10791885\n",
       "West          8292913\n",
       "Midwest       7597325\n",
       "Northeast     5722736\n",
       "Name: count, dtype: int64"
      ]
     },
     "execution_count": 11,
     "metadata": {},
     "output_type": "execute_result"
    }
   ],
   "source": [
    "insta_grocery['region'].value_counts(dropna = False)"
   ]
  },
  {
   "cell_type": "code",
   "execution_count": 12,
   "id": "c854007d",
   "metadata": {},
   "outputs": [
    {
     "data": {
      "text/plain": [
       "count     32404859\n",
       "unique           4\n",
       "top          South\n",
       "freq      10791885\n",
       "Name: region, dtype: object"
      ]
     },
     "execution_count": 12,
     "metadata": {},
     "output_type": "execute_result"
    }
   ],
   "source": [
    "insta_grocery['region'].describe()"
   ]
  },
  {
   "cell_type": "code",
   "execution_count": 13,
   "id": "299c16b0",
   "metadata": {},
   "outputs": [
    {
     "data": {
      "text/plain": [
       "0"
      ]
     },
     "execution_count": 13,
     "metadata": {},
     "output_type": "execute_result"
    }
   ],
   "source": [
    "insta_grocery['region'].isnull().sum()"
   ]
  },
  {
   "cell_type": "code",
   "execution_count": 14,
   "id": "7f9bdf89",
   "metadata": {},
   "outputs": [
    {
     "data": {
      "text/html": [
       "<div>\n",
       "<style scoped>\n",
       "    .dataframe tbody tr th:only-of-type {\n",
       "        vertical-align: middle;\n",
       "    }\n",
       "\n",
       "    .dataframe tbody tr th {\n",
       "        vertical-align: top;\n",
       "    }\n",
       "\n",
       "    .dataframe thead tr th {\n",
       "        text-align: left;\n",
       "    }\n",
       "\n",
       "    .dataframe thead tr:last-of-type th {\n",
       "        text-align: right;\n",
       "    }\n",
       "</style>\n",
       "<table border=\"1\" class=\"dataframe\">\n",
       "  <thead>\n",
       "    <tr>\n",
       "      <th></th>\n",
       "      <th colspan=\"3\" halign=\"left\">prices</th>\n",
       "    </tr>\n",
       "    <tr>\n",
       "      <th></th>\n",
       "      <th>mean</th>\n",
       "      <th>min</th>\n",
       "      <th>max</th>\n",
       "    </tr>\n",
       "    <tr>\n",
       "      <th>region</th>\n",
       "      <th></th>\n",
       "      <th></th>\n",
       "      <th></th>\n",
       "    </tr>\n",
       "  </thead>\n",
       "  <tbody>\n",
       "    <tr>\n",
       "      <th>Midwest</th>\n",
       "      <td>12.715483</td>\n",
       "      <td>1.0</td>\n",
       "      <td>99999.0</td>\n",
       "    </tr>\n",
       "    <tr>\n",
       "      <th>Northeast</th>\n",
       "      <td>11.554997</td>\n",
       "      <td>1.0</td>\n",
       "      <td>99999.0</td>\n",
       "    </tr>\n",
       "    <tr>\n",
       "      <th>South</th>\n",
       "      <td>12.195577</td>\n",
       "      <td>1.0</td>\n",
       "      <td>99999.0</td>\n",
       "    </tr>\n",
       "    <tr>\n",
       "      <th>West</th>\n",
       "      <td>11.319834</td>\n",
       "      <td>1.0</td>\n",
       "      <td>99999.0</td>\n",
       "    </tr>\n",
       "  </tbody>\n",
       "</table>\n",
       "</div>"
      ],
      "text/plain": [
       "              prices              \n",
       "                mean  min      max\n",
       "region                            \n",
       "Midwest    12.715483  1.0  99999.0\n",
       "Northeast  11.554997  1.0  99999.0\n",
       "South      12.195577  1.0  99999.0\n",
       "West       11.319834  1.0  99999.0"
      ]
     },
     "execution_count": 14,
     "metadata": {},
     "output_type": "execute_result"
    }
   ],
   "source": [
    "#  use groupby() and agg() function to determine to basic statistics of spending habits by loyalty group in 3 different types.\n",
    "insta_grocery.groupby('region').agg({'prices': ['mean', 'min', 'max']})"
   ]
  },
  {
   "cell_type": "code",
   "execution_count": 15,
   "id": "741c10de",
   "metadata": {},
   "outputs": [
    {
     "name": "stderr",
     "output_type": "stream",
     "text": [
      "C:\\Users\\bhimc\\AppData\\Local\\Temp\\ipykernel_14152\\3445282076.py:2: FutureWarning: The provided callable <function mean at 0x00000199959627A0> is currently using SeriesGroupBy.mean. In a future version of pandas, the provided callable will be used directly. To keep current behavior pass the string \"mean\" instead.\n",
      "  insta_grocery['mean_product_price'] = insta_grocery.groupby(['user_id'])['prices'].transform(np.mean)\n"
     ]
    }
   ],
   "source": [
    "# Using the transform() Function to determine the mean of the prices of products purchased by each user\n",
    "insta_grocery['mean_product_price'] = insta_grocery.groupby(['user_id'])['prices'].transform(np.mean)"
   ]
  },
  {
   "cell_type": "code",
   "execution_count": 16,
   "id": "29948d3e",
   "metadata": {},
   "outputs": [
    {
     "data": {
      "text/html": [
       "<div>\n",
       "<style scoped>\n",
       "    .dataframe tbody tr th:only-of-type {\n",
       "        vertical-align: middle;\n",
       "    }\n",
       "\n",
       "    .dataframe tbody tr th {\n",
       "        vertical-align: top;\n",
       "    }\n",
       "\n",
       "    .dataframe thead th {\n",
       "        text-align: right;\n",
       "    }\n",
       "</style>\n",
       "<table border=\"1\" class=\"dataframe\">\n",
       "  <thead>\n",
       "    <tr style=\"text-align: right;\">\n",
       "      <th></th>\n",
       "      <th>user_id</th>\n",
       "      <th>mean_product_price</th>\n",
       "    </tr>\n",
       "  </thead>\n",
       "  <tbody>\n",
       "    <tr>\n",
       "      <th>0</th>\n",
       "      <td>1</td>\n",
       "      <td>6.367797</td>\n",
       "    </tr>\n",
       "    <tr>\n",
       "      <th>1</th>\n",
       "      <td>1</td>\n",
       "      <td>6.367797</td>\n",
       "    </tr>\n",
       "    <tr>\n",
       "      <th>2</th>\n",
       "      <td>1</td>\n",
       "      <td>6.367797</td>\n",
       "    </tr>\n",
       "    <tr>\n",
       "      <th>3</th>\n",
       "      <td>1</td>\n",
       "      <td>6.367797</td>\n",
       "    </tr>\n",
       "    <tr>\n",
       "      <th>4</th>\n",
       "      <td>1</td>\n",
       "      <td>6.367797</td>\n",
       "    </tr>\n",
       "  </tbody>\n",
       "</table>\n",
       "</div>"
      ],
      "text/plain": [
       "   user_id  mean_product_price\n",
       "0        1            6.367797\n",
       "1        1            6.367797\n",
       "2        1            6.367797\n",
       "3        1            6.367797\n",
       "4        1            6.367797"
      ]
     },
     "execution_count": 16,
     "metadata": {},
     "output_type": "execute_result"
    }
   ],
   "source": [
    "# Check the output of newly created column\n",
    "insta_grocery[['user_id', 'mean_product_price']].head()"
   ]
  },
  {
   "cell_type": "code",
   "execution_count": 17,
   "id": "725fc77e",
   "metadata": {},
   "outputs": [],
   "source": [
    "insta_grocery.loc[insta_grocery['mean_product_price'] >= 10, 'spending_flag'] = 'High spender'"
   ]
  },
  {
   "cell_type": "code",
   "execution_count": 18,
   "id": "7f7bf89e",
   "metadata": {},
   "outputs": [],
   "source": [
    "insta_grocery.loc[insta_grocery['mean_product_price'] < 10, 'spending_flag'] = 'Low spender'"
   ]
  },
  {
   "cell_type": "code",
   "execution_count": 19,
   "id": "47c9465c",
   "metadata": {},
   "outputs": [
    {
     "data": {
      "text/plain": [
       "spending_flag\n",
       "Low spender     31770614\n",
       "High spender      634245\n",
       "Name: count, dtype: int64"
      ]
     },
     "execution_count": 19,
     "metadata": {},
     "output_type": "execute_result"
    }
   ],
   "source": [
    "# Check the frequency of \"Spending_flag\" column\n",
    "insta_grocery['spending_flag'].value_counts(dropna = False)"
   ]
  },
  {
   "cell_type": "code",
   "execution_count": 20,
   "id": "633ef644",
   "metadata": {},
   "outputs": [],
   "source": [
    "# the variable Region with the spending flag \n",
    "region_flag_counts = insta_grocery.groupby(['region', 'spending_flag']).size().unstack(fill_value=0)"
   ]
  },
  {
   "cell_type": "code",
   "execution_count": 21,
   "id": "5fa16575",
   "metadata": {
    "scrolled": true
   },
   "outputs": [
    {
     "data": {
      "text/html": [
       "<div>\n",
       "<style scoped>\n",
       "    .dataframe tbody tr th:only-of-type {\n",
       "        vertical-align: middle;\n",
       "    }\n",
       "\n",
       "    .dataframe tbody tr th {\n",
       "        vertical-align: top;\n",
       "    }\n",
       "\n",
       "    .dataframe thead th {\n",
       "        text-align: right;\n",
       "    }\n",
       "</style>\n",
       "<table border=\"1\" class=\"dataframe\">\n",
       "  <thead>\n",
       "    <tr style=\"text-align: right;\">\n",
       "      <th>spending_flag</th>\n",
       "      <th>High spender</th>\n",
       "      <th>Low spender</th>\n",
       "    </tr>\n",
       "    <tr>\n",
       "      <th>region</th>\n",
       "      <th></th>\n",
       "      <th></th>\n",
       "    </tr>\n",
       "  </thead>\n",
       "  <tbody>\n",
       "    <tr>\n",
       "      <th>Midwest</th>\n",
       "      <td>155975</td>\n",
       "      <td>7441350</td>\n",
       "    </tr>\n",
       "    <tr>\n",
       "      <th>Northeast</th>\n",
       "      <td>108225</td>\n",
       "      <td>5614511</td>\n",
       "    </tr>\n",
       "    <tr>\n",
       "      <th>South</th>\n",
       "      <td>209691</td>\n",
       "      <td>10582194</td>\n",
       "    </tr>\n",
       "    <tr>\n",
       "      <th>West</th>\n",
       "      <td>160354</td>\n",
       "      <td>8132559</td>\n",
       "    </tr>\n",
       "  </tbody>\n",
       "</table>\n",
       "</div>"
      ],
      "text/plain": [
       "spending_flag  High spender  Low spender\n",
       "region                                  \n",
       "Midwest              155975      7441350\n",
       "Northeast            108225      5614511\n",
       "South                209691     10582194\n",
       "West                 160354      8132559"
      ]
     },
     "execution_count": 21,
     "metadata": {},
     "output_type": "execute_result"
    }
   ],
   "source": [
    "region_flag_counts"
   ]
  },
  {
   "cell_type": "code",
   "execution_count": 22,
   "id": "e0dea497",
   "metadata": {},
   "outputs": [],
   "source": [
    "# the veriable base on region with the spending flag using \"crosstab\"\n",
    "crosstab = pd.crosstab(insta_grocery['region'], insta_grocery['spending_flag'], dropna = False)"
   ]
  },
  {
   "cell_type": "code",
   "execution_count": 23,
   "id": "32c93bac",
   "metadata": {},
   "outputs": [],
   "source": [
    "# export crossing data in excel\n",
    "crosstab.to_clipboard()"
   ]
  },
  {
   "cell_type": "code",
   "execution_count": 24,
   "id": "2bd366a1",
   "metadata": {},
   "outputs": [
    {
     "data": {
      "image/png": "[encoded data removed]",
      "text/plain": [
       "<Figure size 640x480 with 1 Axes>"
      ]
     },
     "metadata": {},
     "output_type": "display_data"
    }
   ],
   "source": [
    "# pie chart - 'region base on spending_flage\"\n",
    "pie_region = insta_grocery['region'].value_counts().plot.pie(autopct='%1.1f%%', title='region base on spending_flag')"
   ]
  },
  {
   "cell_type": "code",
   "execution_count": 25,
   "id": "d7c02819",
   "metadata": {},
   "outputs": [],
   "source": [
    "# Exporting pie chat of region base on spending\n",
    "pie_region.figure.savefig(os.path.join(path, '04 Analysis','Visualizations', 'pie_region_.png'))"
   ]
  },
  {
   "cell_type": "markdown",
   "id": "9b0f32f5",
   "metadata": {},
   "source": [
    "### Finding the Results of spending habits base by regions in the USA"
   ]
  },
  {
   "cell_type": "markdown",
   "id": "6b01bf70",
   "metadata": {},
   "source": [
    "#### - South region has the highest spending"
   ]
  },
  {
   "cell_type": "markdown",
   "id": "88d92ef1",
   "metadata": {},
   "source": [
    "#### - West region has the 2nd higest spending"
   ]
  },
  {
   "cell_type": "markdown",
   "id": "f106b22f",
   "metadata": {},
   "source": [
    "#### - Midwest region has the 3rd highest spending"
   ]
  },
  {
   "cell_type": "markdown",
   "id": "3b7b0dec",
   "metadata": {},
   "source": [
    "#### - Northwest region has the least amount of spending"
   ]
  },
  {
   "cell_type": "markdown",
   "id": "26ce9c59",
   "metadata": {},
   "source": [
    "## 4. Customer Flag"
   ]
  },
  {
   "cell_type": "markdown",
   "id": "fb2d88b2",
   "metadata": {},
   "source": [
    "### \" Create an exclusion flag for low-activity customers (customers with less than 5 orders) and exclude them from the data.Make sure you export this sample.\""
   ]
  },
  {
   "cell_type": "code",
   "execution_count": 26,
   "id": "f875d02d",
   "metadata": {},
   "outputs": [
    {
     "data": {
      "text/html": [
       "<div>\n",
       "<style scoped>\n",
       "    .dataframe tbody tr th:only-of-type {\n",
       "        vertical-align: middle;\n",
       "    }\n",
       "\n",
       "    .dataframe tbody tr th {\n",
       "        vertical-align: top;\n",
       "    }\n",
       "\n",
       "    .dataframe thead tr th {\n",
       "        text-align: left;\n",
       "    }\n",
       "\n",
       "    .dataframe thead tr:last-of-type th {\n",
       "        text-align: right;\n",
       "    }\n",
       "</style>\n",
       "<table border=\"1\" class=\"dataframe\">\n",
       "  <thead>\n",
       "    <tr>\n",
       "      <th></th>\n",
       "      <th colspan=\"3\" halign=\"left\">order_number</th>\n",
       "    </tr>\n",
       "    <tr>\n",
       "      <th></th>\n",
       "      <th>mean</th>\n",
       "      <th>min</th>\n",
       "      <th>max</th>\n",
       "    </tr>\n",
       "    <tr>\n",
       "      <th>region</th>\n",
       "      <th></th>\n",
       "      <th></th>\n",
       "      <th></th>\n",
       "    </tr>\n",
       "  </thead>\n",
       "  <tbody>\n",
       "    <tr>\n",
       "      <th>Midwest</th>\n",
       "      <td>16.925133</td>\n",
       "      <td>1.0</td>\n",
       "      <td>99.0</td>\n",
       "    </tr>\n",
       "    <tr>\n",
       "      <th>Northeast</th>\n",
       "      <td>17.215731</td>\n",
       "      <td>1.0</td>\n",
       "      <td>99.0</td>\n",
       "    </tr>\n",
       "    <tr>\n",
       "      <th>South</th>\n",
       "      <td>17.150969</td>\n",
       "      <td>1.0</td>\n",
       "      <td>99.0</td>\n",
       "    </tr>\n",
       "    <tr>\n",
       "      <th>West</th>\n",
       "      <td>17.279320</td>\n",
       "      <td>1.0</td>\n",
       "      <td>99.0</td>\n",
       "    </tr>\n",
       "  </tbody>\n",
       "</table>\n",
       "</div>"
      ],
      "text/plain": [
       "          order_number           \n",
       "                  mean  min   max\n",
       "region                           \n",
       "Midwest      16.925133  1.0  99.0\n",
       "Northeast    17.215731  1.0  99.0\n",
       "South        17.150969  1.0  99.0\n",
       "West         17.279320  1.0  99.0"
      ]
     },
     "execution_count": 26,
     "metadata": {},
     "output_type": "execute_result"
    }
   ],
   "source": [
    "insta_grocery.groupby('region').agg({'order_number': ['mean', 'min', 'max']})"
   ]
  },
  {
   "cell_type": "code",
   "execution_count": 27,
   "id": "a71bd0b2",
   "metadata": {},
   "outputs": [
    {
     "name": "stderr",
     "output_type": "stream",
     "text": [
      "C:\\Users\\bhimc\\AppData\\Local\\Temp\\ipykernel_14152\\3389028987.py:1: FutureWarning: The provided callable <function amax at 0x0000019995961A80> is currently using SeriesGroupBy.max. In a future version of pandas, the provided callable will be used directly. To keep current behavior pass the string \"max\" instead.\n",
      "  insta_grocery['max_order'] = insta_grocery.groupby(['user_id'])['order_number'].transform(np.max)\n"
     ]
    }
   ],
   "source": [
    "insta_grocery['max_order'] = insta_grocery.groupby(['user_id'])['order_number'].transform(np.max)"
   ]
  },
  {
   "cell_type": "code",
   "execution_count": 28,
   "id": "c4774e23",
   "metadata": {},
   "outputs": [
    {
     "data": {
      "text/html": [
       "<div>\n",
       "<style scoped>\n",
       "    .dataframe tbody tr th:only-of-type {\n",
       "        vertical-align: middle;\n",
       "    }\n",
       "\n",
       "    .dataframe tbody tr th {\n",
       "        vertical-align: top;\n",
       "    }\n",
       "\n",
       "    .dataframe thead th {\n",
       "        text-align: right;\n",
       "    }\n",
       "</style>\n",
       "<table border=\"1\" class=\"dataframe\">\n",
       "  <thead>\n",
       "    <tr style=\"text-align: right;\">\n",
       "      <th></th>\n",
       "      <th>user_id</th>\n",
       "      <th>max_order</th>\n",
       "    </tr>\n",
       "  </thead>\n",
       "  <tbody>\n",
       "    <tr>\n",
       "      <th>0</th>\n",
       "      <td>1</td>\n",
       "      <td>10.0</td>\n",
       "    </tr>\n",
       "    <tr>\n",
       "      <th>1</th>\n",
       "      <td>1</td>\n",
       "      <td>10.0</td>\n",
       "    </tr>\n",
       "    <tr>\n",
       "      <th>2</th>\n",
       "      <td>1</td>\n",
       "      <td>10.0</td>\n",
       "    </tr>\n",
       "    <tr>\n",
       "      <th>3</th>\n",
       "      <td>1</td>\n",
       "      <td>10.0</td>\n",
       "    </tr>\n",
       "    <tr>\n",
       "      <th>4</th>\n",
       "      <td>1</td>\n",
       "      <td>10.0</td>\n",
       "    </tr>\n",
       "  </tbody>\n",
       "</table>\n",
       "</div>"
      ],
      "text/plain": [
       "   user_id  max_order\n",
       "0        1       10.0\n",
       "1        1       10.0\n",
       "2        1       10.0\n",
       "3        1       10.0\n",
       "4        1       10.0"
      ]
     },
     "execution_count": 28,
     "metadata": {},
     "output_type": "execute_result"
    }
   ],
   "source": [
    "# Check the output of newly created column\n",
    "insta_grocery[['user_id', 'max_order']].head()"
   ]
  },
  {
   "cell_type": "code",
   "execution_count": 29,
   "id": "3521eb16",
   "metadata": {},
   "outputs": [],
   "source": [
    "# create a column 'exclusion flag' with max_order\n",
    "insta_grocery.loc[insta_grocery['max_order'] <5, 'exclusion_flag'] = 'low-activity customer'"
   ]
  },
  {
   "cell_type": "code",
   "execution_count": 30,
   "id": "6e863d28",
   "metadata": {},
   "outputs": [
    {
     "data": {
      "text/plain": [
       "exclusion_flag\n",
       "nan                      30964564\n",
       "low-activity customer     1440295\n",
       "Name: count, dtype: int64"
      ]
     },
     "execution_count": 30,
     "metadata": {},
     "output_type": "execute_result"
    }
   ],
   "source": [
    "# frequency of low-activity customers\n",
    "insta_grocery['exclusion_flag'].value_counts()"
   ]
  },
  {
   "cell_type": "code",
   "execution_count": 31,
   "id": "ad2c5315",
   "metadata": {},
   "outputs": [],
   "source": [
    "# create a new data frame 'insta_grocery' that exclude low-activity customers. \n",
    "insta_grocery = insta_grocery[insta_grocery['exclusion_flag'] != 'low-activity customer']"
   ]
  },
  {
   "cell_type": "code",
   "execution_count": 32,
   "id": "cbf90e87",
   "metadata": {},
   "outputs": [
    {
     "data": {
      "text/plain": [
       "(30964564, 32)"
      ]
     },
     "execution_count": 32,
     "metadata": {},
     "output_type": "execute_result"
    }
   ],
   "source": [
    "insta_grocery.shape"
   ]
  },
  {
   "cell_type": "code",
   "execution_count": 33,
   "id": "76573d71",
   "metadata": {},
   "outputs": [
    {
     "data": {
      "text/plain": [
       "exclusion_flag\n",
       "nan    30964564\n",
       "Name: count, dtype: int64"
      ]
     },
     "execution_count": 33,
     "metadata": {},
     "output_type": "execute_result"
    }
   ],
   "source": [
    "insta_grocery['exclusion_flag'].value_counts()"
   ]
  },
  {
   "cell_type": "code",
   "execution_count": 34,
   "id": "62dbec30",
   "metadata": {},
   "outputs": [],
   "source": [
    "#export the new data frame excluding low-activity customers. \n",
    "insta_grocery.to_pickle(os.path.join(path, '02 Data\\Prepared Data\\insta_grocery.pkl'))"
   ]
  },
  {
   "cell_type": "markdown",
   "id": "b2eb3338",
   "metadata": {},
   "source": [
    "## 5. Create Customers profile and Department"
   ]
  },
  {
   "cell_type": "markdown",
   "id": "742e2764",
   "metadata": {},
   "source": [
    "### \"Create a profiling variable based on age, income, certain goods in the “department_id” column, and number of dependents. You might also use the “orders_day_of_week” and “order_hour_of_day” columns if you can think of a way they would impact customer profiles. (Hint: As an example, try thinking of what characteristics would lead you to the profile “Single adult” or “Young parent.”)\""
   ]
  },
  {
   "cell_type": "markdown",
   "id": "de17a8f0",
   "metadata": {},
   "source": [
    "### - Creating a Customer's profile based on the following category:"
   ]
  },
  {
   "cell_type": "markdown",
   "id": "b31c21a1",
   "metadata": {},
   "source": [
    "### . Age_category - Young adult, Middle Age and senior citizen\n",
    "### . Income_category - Low, Middle, high\n",
    "### . marital_status - Married and Single"
   ]
  },
  {
   "cell_type": "markdown",
   "id": "667ac2d5",
   "metadata": {},
   "source": [
    "### - Create a Department flag  connected with customer profile"
   ]
  },
  {
   "cell_type": "markdown",
   "id": "c757ab99",
   "metadata": {},
   "source": [
    "### . create a column of  \"Age_category\" "
   ]
  },
  {
   "cell_type": "code",
   "execution_count": 18,
   "id": "1e02142f",
   "metadata": {},
   "outputs": [],
   "source": [
    "# Create a agea-category column base one'age' less then 33 year = Young adult\n",
    "insta_grocery.loc[insta_grocery['Age'] <33, 'Age_category'] = 'Young_adult'"
   ]
  },
  {
   "cell_type": "code",
   "execution_count": 19,
   "id": "c90e7ec0",
   "metadata": {},
   "outputs": [],
   "source": [
    "# Age above 65 years = Senior Citizen\n",
    "insta_grocery.loc[insta_grocery['Age'] >=65, 'Age_category'] = 'Senior_citizen'"
   ]
  },
  {
   "cell_type": "code",
   "execution_count": 20,
   "id": "48cc0653",
   "metadata": {},
   "outputs": [],
   "source": [
    "# Age between 33- 65 = Middle age\n",
    "insta_grocery.loc[(insta_grocery['Age']>=33) & (insta_grocery ['Age']<65), 'Age_category'] = 'Middle_age'"
   ]
  },
  {
   "cell_type": "code",
   "execution_count": 38,
   "id": "0d8aba43",
   "metadata": {},
   "outputs": [
    {
     "data": {
      "text/plain": [
       "Age_category\n",
       "Middle_age        15483886\n",
       "Senior_citizen     8195544\n",
       "Young_adult        7285134\n",
       "Name: count, dtype: int64"
      ]
     },
     "execution_count": 38,
     "metadata": {},
     "output_type": "execute_result"
    }
   ],
   "source": [
    "insta_grocery['Age_category'].value_counts()"
   ]
  },
  {
   "cell_type": "markdown",
   "id": "62602819",
   "metadata": {},
   "source": [
    "### .  Create a column of Income_category - Low, Middle, high"
   ]
  },
  {
   "cell_type": "code",
   "execution_count": 39,
   "id": "cd044cb5",
   "metadata": {},
   "outputs": [
    {
     "data": {
      "text/plain": [
       "count    3.096456e+07\n",
       "mean     9.967587e+04\n",
       "std      4.314187e+04\n",
       "min      2.590300e+04\n",
       "25%      6.729200e+04\n",
       "50%      9.676500e+04\n",
       "75%      1.281020e+05\n",
       "max      5.939010e+05\n",
       "Name: income, dtype: float64"
      ]
     },
     "execution_count": 39,
     "metadata": {},
     "output_type": "execute_result"
    }
   ],
   "source": [
    "insta_grocery['income'].describe()"
   ]
  },
  {
   "cell_type": "code",
   "execution_count": 21,
   "id": "446fc3f1",
   "metadata": {},
   "outputs": [],
   "source": [
    "# Create a 'Income_category' column base on income less than 67292 at 25% \n",
    "insta_grocery.loc[insta_grocery['income'] <67292, 'income_category'] ='Low_income'"
   ]
  },
  {
   "cell_type": "code",
   "execution_count": 22,
   "id": "f44fab6b",
   "metadata": {},
   "outputs": [],
   "source": [
    "insta_grocery.loc[(insta_grocery['income']>=67292) & (insta_grocery ['income']<1281020), 'income_category'] = 'Middle_income'"
   ]
  },
  {
   "cell_type": "code",
   "execution_count": 23,
   "id": "0ff26d34",
   "metadata": {},
   "outputs": [],
   "source": [
    "insta_grocery.loc[insta_grocery['income']>= 128102, 'income_category'] = 'High_income'"
   ]
  },
  {
   "cell_type": "code",
   "execution_count": 43,
   "id": "6ef9dd9d",
   "metadata": {},
   "outputs": [
    {
     "data": {
      "text/plain": [
       "income_category\n",
       "Middle_income    15482298\n",
       "High_income       7741261\n",
       "Low_income        7741005\n",
       "Name: count, dtype: int64"
      ]
     },
     "execution_count": 43,
     "metadata": {},
     "output_type": "execute_result"
    }
   ],
   "source": [
    "insta_grocery['income_category'].value_counts()"
   ]
  },
  {
   "cell_type": "code",
   "execution_count": 44,
   "id": "0071e007",
   "metadata": {},
   "outputs": [
    {
     "data": {
      "text/plain": [
       "(30964564,)"
      ]
     },
     "execution_count": 44,
     "metadata": {},
     "output_type": "execute_result"
    }
   ],
   "source": [
    "insta_grocery['income_category'].shape"
   ]
  },
  {
   "cell_type": "markdown",
   "id": "b3c57255",
   "metadata": {},
   "source": [
    "## marital_status - Married and Single"
   ]
  },
  {
   "cell_type": "code",
   "execution_count": 45,
   "id": "38bb16d8",
   "metadata": {},
   "outputs": [
    {
     "data": {
      "image/png": "[encoded data removed]",
      "text/plain": [
       "<Figure size 640x480 with 1 Axes>"
      ]
     },
     "metadata": {},
     "output_type": "display_data"
    }
   ],
   "source": [
    "# pie chart - 'Share of marital status'\n",
    "pie_marital_status = insta_grocery['marital_status'].value_counts().plot.pie(autopct='%1.1f%%', title='Marital Status')"
   ]
  },
  {
   "cell_type": "code",
   "execution_count": 46,
   "id": "228877ab",
   "metadata": {},
   "outputs": [],
   "source": [
    "# Exporting pie chat of family satus \n",
    "pie_marital_status.figure.savefig(os.path.join(path, '04 Analysis','Visualizations', 'pie_fam_status_.png'))"
   ]
  },
  {
   "cell_type": "code",
   "execution_count": 24,
   "id": "b3b687be",
   "metadata": {},
   "outputs": [],
   "source": [
    "insta_grocery.loc[insta_grocery['marital_status']  == 'married', 'Family_category'] ='Married'"
   ]
  },
  {
   "cell_type": "code",
   "execution_count": 25,
   "id": "69c648ef",
   "metadata": {},
   "outputs": [],
   "source": [
    "insta_grocery.loc[insta_grocery['Family_category']  == 'nan', 'Family_category'] ='Single'"
   ]
  },
  {
   "cell_type": "code",
   "execution_count": 26,
   "id": "b86bece0",
   "metadata": {},
   "outputs": [
    {
     "data": {
      "text/plain": [
       "(30964564,)"
      ]
     },
     "execution_count": 26,
     "metadata": {},
     "output_type": "execute_result"
    }
   ],
   "source": [
    "insta_grocery['Family_category'].shape"
   ]
  },
  {
   "cell_type": "code",
   "execution_count": 27,
   "id": "1a4929cf",
   "metadata": {},
   "outputs": [
    {
     "data": {
      "text/plain": [
       "Family_category\n",
       "Married    21743711\n",
       "Single      9220853\n",
       "Name: count, dtype: int64"
      ]
     },
     "execution_count": 27,
     "metadata": {},
     "output_type": "execute_result"
    }
   ],
   "source": [
    "insta_grocery['Family_category'].value_counts()"
   ]
  },
  {
   "cell_type": "markdown",
   "id": "09ed6e26",
   "metadata": {},
   "source": [
    "## - Order base on the week"
   ]
  },
  {
   "cell_type": "code",
   "execution_count": 51,
   "id": "45876290",
   "metadata": {},
   "outputs": [
    {
     "data": {
      "text/plain": [
       "orders_day_of_week\n",
       "0    5908610\n",
       "1    5411686\n",
       "6    4291304\n",
       "5    4033729\n",
       "2    4024706\n",
       "3    3669535\n",
       "4    3624994\n",
       "Name: count, dtype: int64"
      ]
     },
     "execution_count": 51,
     "metadata": {},
     "output_type": "execute_result"
    }
   ],
   "source": [
    "insta_grocery['orders_day_of_week'].value_counts()"
   ]
  },
  {
   "cell_type": "code",
   "execution_count": 52,
   "id": "b0ddb3dd",
   "metadata": {},
   "outputs": [],
   "source": [
    "# creating a data list of order_list_flag\n",
    "\n",
    "orders_week_flag ={'Saturday':6107725,'Sunday':5572954,'Monday':4147880,'Tuesday':3785966,'Wednesday':3733707,'Thursday':4152834,'Friday':4428913}\n",
    "week_category=list(orders_week_flag.keys())\n",
    "week_count=list(orders_week_flag.values())\n",
    "colors=['red','blue','pink','orange','yellow','rosybrown','green']"
   ]
  },
  {
   "cell_type": "code",
   "execution_count": 53,
   "id": "81e4a18f",
   "metadata": {},
   "outputs": [
    {
     "data": {
      "text/plain": [
       "<Figure size 700x700 with 0 Axes>"
      ]
     },
     "execution_count": 53,
     "metadata": {},
     "output_type": "execute_result"
    },
    {
     "data": {
      "text/plain": [
       "<Figure size 700x700 with 0 Axes>"
      ]
     },
     "metadata": {},
     "output_type": "display_data"
    }
   ],
   "source": [
    "# size of the bar chart\n",
    "plt.figure(figsize=(7,7))"
   ]
  },
  {
   "cell_type": "code",
   "execution_count": 54,
   "id": "da5f030c",
   "metadata": {},
   "outputs": [
    {
     "data": {
      "text/plain": [
       "Text(0, 0.5, 'No. of orders')"
      ]
     },
     "execution_count": 54,
     "metadata": {},
     "output_type": "execute_result"
    },
    {
     "data": {
      "image/png": "[encoded data removed]",
      "text/plain": [
       "<Figure size 640x480 with 1 Axes>"
      ]
     },
     "metadata": {},
     "output_type": "display_data"
    }
   ],
   "source": [
    "# Creat a bar chart of order day of week\n",
    "bar_week=plt.bar(week_category,week_count,color=colors,width=0.5)\n",
    "\n",
    "for i,v in enumerate(week_count):\n",
    "    plt.text(i,v+3000, str(v), ha=\"center\",weight=\"bold\",size=8)\n",
    "    # X_axis\n",
    "    plt.xlabel('Orders day of week')\n",
    "    # Y axis label\n",
    "plt.ylabel('No. of orders')"
   ]
  },
  {
   "cell_type": "markdown",
   "id": "24a16bc6",
   "metadata": {},
   "source": [
    "## Most of the busiest days of the week are the weekends (Saturday and Sunday) and Friday."
   ]
  },
  {
   "cell_type": "markdown",
   "id": "049f3029",
   "metadata": {},
   "source": [
    "### Recommedation : Focus mainly on the weekends"
   ]
  },
  {
   "cell_type": "code",
   "execution_count": 55,
   "id": "794ae60d",
   "metadata": {},
   "outputs": [
    {
     "data": {
      "text/plain": [
       "<Figure size 640x480 with 0 Axes>"
      ]
     },
     "metadata": {},
     "output_type": "display_data"
    }
   ],
   "source": [
    "# Export the barchart as png file\n",
    "plt.savefig(os.path.join(path, '04 Analysis','Visualizations', 'bar_orders_dow.png'))"
   ]
  },
  {
   "cell_type": "code",
   "execution_count": 4,
   "id": "2dae04c4",
   "metadata": {},
   "outputs": [],
   "source": [
    "# due to the memmory issue Import the insta_grocery dataframe \n",
    "insta_grocery = pd.read_pickle(os.path.join(path, '02 Data\\Prepared Data\\insta_grocery.pkl'))"
   ]
  },
  {
   "cell_type": "code",
   "execution_count": 5,
   "id": "b798d8a8",
   "metadata": {},
   "outputs": [],
   "source": [
    "insta_grocery['Age'] = insta_grocery['Age'].astype('int32')"
   ]
  },
  {
   "cell_type": "code",
   "execution_count": 6,
   "id": "a1b3ee66",
   "metadata": {},
   "outputs": [],
   "source": [
    "insta_grocery['income'] = insta_grocery['income'].astype('int32')"
   ]
  },
  {
   "cell_type": "markdown",
   "id": "e929f9d3",
   "metadata": {},
   "source": [
    "## Create a sample dataframe to show the correlation Between Age and Income"
   ]
  },
  {
   "cell_type": "code",
   "execution_count": 7,
   "id": "fb8ec0fa",
   "metadata": {},
   "outputs": [],
   "source": [
    "np.random.seed(4)\n",
    "dev = np.random.rand(len(insta_grocery)) <= 0.7"
   ]
  },
  {
   "cell_type": "code",
   "execution_count": 8,
   "id": "fbe2a257",
   "metadata": {},
   "outputs": [
    {
     "data": {
      "text/plain": [
       "array([0.40196087, 0.10262327, 0.49905822, 0.76022198, 0.8841328 ,\n",
       "       0.70943956, 0.41872088, 0.11397028, 0.00622199, 0.26237651])"
      ]
     },
     "execution_count": 8,
     "metadata": {},
     "output_type": "execute_result"
    }
   ],
   "source": [
    "np.random.rand(10)"
   ]
  },
  {
   "cell_type": "code",
   "execution_count": 9,
   "id": "ed447da5",
   "metadata": {},
   "outputs": [],
   "source": [
    "big = insta_grocery[dev]"
   ]
  },
  {
   "cell_type": "code",
   "execution_count": 10,
   "id": "7bf8507d",
   "metadata": {},
   "outputs": [],
   "source": [
    "small = insta_grocery[~dev]"
   ]
  },
  {
   "cell_type": "code",
   "execution_count": 37,
   "id": "cef55ffb",
   "metadata": {},
   "outputs": [
    {
     "data": {
      "text/plain": [
       "30964564"
      ]
     },
     "execution_count": 37,
     "metadata": {},
     "output_type": "execute_result"
    }
   ],
   "source": [
    "len(insta_grocery)"
   ]
  },
  {
   "cell_type": "code",
   "execution_count": 38,
   "id": "5db1bf82",
   "metadata": {},
   "outputs": [
    {
     "data": {
      "text/plain": [
       "30964564"
      ]
     },
     "execution_count": 38,
     "metadata": {},
     "output_type": "execute_result"
    }
   ],
   "source": [
    "len(big) + len(small)"
   ]
  },
  {
   "cell_type": "code",
   "execution_count": 11,
   "id": "d22d6a1c",
   "metadata": {},
   "outputs": [],
   "source": [
    "df_2 = small[['Age','income']]"
   ]
  },
  {
   "cell_type": "code",
   "execution_count": null,
   "id": "510572f6",
   "metadata": {},
   "outputs": [
    {
     "name": "stderr",
     "output_type": "stream",
     "text": [
      "C:\\Users\\bhimc\\anaconda3\\Lib\\site-packages\\seaborn\\_oldcore.py:1119: FutureWarning: use_inf_as_na option is deprecated and will be removed in a future version. Convert inf values to NaN before operating instead.\n",
      "  with pd.option_context('mode.use_inf_as_na', True):\n",
      "C:\\Users\\bhimc\\anaconda3\\Lib\\site-packages\\seaborn\\_oldcore.py:1119: FutureWarning: use_inf_as_na option is deprecated and will be removed in a future version. Convert inf values to NaN before operating instead.\n",
      "  with pd.option_context('mode.use_inf_as_na', True):\n"
     ]
    }
   ],
   "source": [
    "line = sns.lineplot(data = df_2, x = 'income',y = 'Age')"
   ]
  },
  {
   "cell_type": "code",
   "execution_count": 11,
   "id": "fcc06b18",
   "metadata": {},
   "outputs": [],
   "source": [
    "# create 'dependants_flag' column based on 'no_of_dependants' \n",
    "\n",
    "insta_grocery.loc[insta_grocery['number_of_dependants']==0,'dependants_flag']=\"No dependants\""
   ]
  },
  {
   "cell_type": "code",
   "execution_count": 13,
   "id": "ea154ec7",
   "metadata": {},
   "outputs": [],
   "source": [
    "# create 'dependants_flag' column based on 'no_of_dependants'\n",
    "\n",
    "insta_grocery.loc[insta_grocery['number_of_dependants']>0,'dependants_flag']=\"With dependants\""
   ]
  },
  {
   "cell_type": "code",
   "execution_count": 14,
   "id": "e81eaf44",
   "metadata": {},
   "outputs": [
    {
     "data": {
      "text/plain": [
       "dependants_flag\n",
       "With dependants    23224883\n",
       "No dependants       7739681\n",
       "Name: count, dtype: int64"
      ]
     },
     "execution_count": 14,
     "metadata": {},
     "output_type": "execute_result"
    }
   ],
   "source": [
    "insta_grocery['dependants_flag'].value_counts(dropna=False)"
   ]
  },
  {
   "cell_type": "markdown",
   "id": "b2584677",
   "metadata": {},
   "source": [
    "## Create a 'Customer profile'  column base on the following category:\n",
    "### Customer Profile = Age + Income + family status\n",
    "\n",
    "#### The following 18 customer profiles would be created below:\n",
    "    \n",
    "1)Young adult-Low income- single\n",
    "2)Young adult-Medium income-single\n",
    "3)Young adult-High income-Single\n",
    "\n",
    "4)Middle aged-Low income-Single\n",
    "5)Middle aged-Medium income-Single\n",
    "6)Middle aged-High income-Single\n",
    "\n",
    "7)Senior citizen-Low income-Single\n",
    "8)Senior citizen-Medium income-Single\n",
    "9)Senior citizen-High income-Single\n",
    "\n",
    "10)Young adult-Low income-Married\n",
    "11)Young adult-Medium income-Married\n",
    "12)Young adult-High income-Married\n",
    "\n",
    "13)Middle aged-Low income-Marries\n",
    "14)Middle aged-Medium income-Married\n",
    "15)Middle aged-High income-Married\n",
    "\n",
    "16)Senior citizen-Low income-Married\n",
    "17)Senior citizen-Medium income-Married\n",
    "18)Senior citizen-High income-Married\n"
   ]
  },
  {
   "cell_type": "markdown",
   "id": "cf7d0fde",
   "metadata": {},
   "source": [
    "## Create a Cusromer profile with profile 1,2,3"
   ]
  },
  {
   "cell_type": "code",
   "execution_count": 80,
   "id": "6fa8e217",
   "metadata": {},
   "outputs": [],
   "source": [
    "insta_grocery.loc[(insta_grocery[ 'Age_category']=='Young_adult') & (insta_grocery['income_category']=='Low_income') & (insta_grocery['Family_category']=='Single'),'customer_profile']=\"Young_adult-Low_income-Single\""
   ]
  },
  {
   "cell_type": "code",
   "execution_count": 99,
   "id": "6f9bbda1",
   "metadata": {},
   "outputs": [],
   "source": [
    "insta_grocery.loc[(insta_grocery[ 'Age_category']=='Young_adult') & (insta_grocery['income_category']=='Middle_income') & (insta_grocery['Family_category']=='Single'),'customer_profile']=\"Young_adult-Middle_income-Single\""
   ]
  },
  {
   "cell_type": "code",
   "execution_count": 82,
   "id": "beb7b6e5",
   "metadata": {},
   "outputs": [],
   "source": [
    "insta_grocery.loc[(insta_grocery[ 'Age_category']=='Young_adult') & (insta_grocery['income_category']=='High_income') & (insta_grocery['Family_category']=='Single'),'customer_profile']=\"Young_adult-High_income-Single\""
   ]
  },
  {
   "cell_type": "markdown",
   "id": "4980b333",
   "metadata": {},
   "source": [
    "## Create a Customer profile with profile 4,5,6"
   ]
  },
  {
   "cell_type": "code",
   "execution_count": 83,
   "id": "8cd67c99",
   "metadata": {},
   "outputs": [],
   "source": [
    "insta_grocery.loc[(insta_grocery[ 'Age_category']=='Middle_age') & (insta_grocery['income_category']=='Low_income') & (insta_grocery['Family_category']=='Single'),'customer_profile']=\"Middle_age-Low_income-Single\""
   ]
  },
  {
   "cell_type": "code",
   "execution_count": 84,
   "id": "0e7a7254",
   "metadata": {},
   "outputs": [],
   "source": [
    "insta_grocery.loc[(insta_grocery[ 'Age_category']=='Middle_age') & (insta_grocery['income_category']=='Middle_income') & (insta_grocery['Family_category']=='Single'),'customer_profile']=\"Middle_age-Middle_income-Single\""
   ]
  },
  {
   "cell_type": "code",
   "execution_count": 85,
   "id": "c219f591",
   "metadata": {},
   "outputs": [],
   "source": [
    "insta_grocery.loc[(insta_grocery[ 'Age_category']=='Middle_age') & (insta_grocery['income_category']=='High_income') & (insta_grocery['Family_category']=='Single'),'customer_profile']=\"Middle_age-High_income-Single\""
   ]
  },
  {
   "cell_type": "markdown",
   "id": "deffe0df",
   "metadata": {},
   "source": [
    "## Create a Customer profile with profile 7,8,9"
   ]
  },
  {
   "cell_type": "code",
   "execution_count": 86,
   "id": "579cd8d5",
   "metadata": {},
   "outputs": [],
   "source": [
    "insta_grocery.loc[(insta_grocery[ 'Age_category']=='Senior_citizen') & (insta_grocery['income_category']=='Low_income') & (insta_grocery['Family_category']=='Single'),'customer_profile']=\"Senior_citizen-Low_income-Single\""
   ]
  },
  {
   "cell_type": "code",
   "execution_count": 87,
   "id": "ea1ef793",
   "metadata": {},
   "outputs": [],
   "source": [
    "insta_grocery.loc[(insta_grocery[ 'Age_category']=='Senior_citizen') & (insta_grocery['income_category']=='Middle_income') & (insta_grocery['Family_category']=='Single'),'customer_profile']=\"Senior_citizen-Middle_income-Single\""
   ]
  },
  {
   "cell_type": "code",
   "execution_count": 88,
   "id": "32095ede",
   "metadata": {},
   "outputs": [],
   "source": [
    "insta_grocery.loc[(insta_grocery[ 'Age_category']=='Senior_citizen') & (insta_grocery['income_category']=='High_income') & (insta_grocery['Family_category']=='Single'),'customer_profile']=\"Senior_citizen-High_income-Single\""
   ]
  },
  {
   "cell_type": "markdown",
   "id": "dea27d8f",
   "metadata": {},
   "source": [
    "## Create a Customer profile with profile 10,11,12"
   ]
  },
  {
   "cell_type": "code",
   "execution_count": 89,
   "id": "0e29af6a",
   "metadata": {},
   "outputs": [],
   "source": [
    "insta_grocery.loc[(insta_grocery[ 'Age_category']=='Young_adult') & (insta_grocery['income_category']=='Low_income') & (insta_grocery['Family_category']=='Married'),'customer_profile']=\"Young_adult-Low_income-Married\""
   ]
  },
  {
   "cell_type": "code",
   "execution_count": 90,
   "id": "21d015b1",
   "metadata": {},
   "outputs": [],
   "source": [
    "insta_grocery.loc[(insta_grocery[ 'Age_category']=='Young_adult') & (insta_grocery['income_category']=='Middle_income') & (insta_grocery['Family_category']=='Married'),'customer_profile']=\"Young_adult-Middle_income-Married\""
   ]
  },
  {
   "cell_type": "code",
   "execution_count": 91,
   "id": "7ffdfba3",
   "metadata": {},
   "outputs": [],
   "source": [
    "insta_grocery.loc[(insta_grocery[ 'Age_category']=='Young_adult') & (insta_grocery['income_category']=='High_income') & (insta_grocery['Family_category']=='Married'),'customer_profile']=\"Young_adult-High_income-married\""
   ]
  },
  {
   "cell_type": "markdown",
   "id": "8870f38e",
   "metadata": {},
   "source": [
    "## Create a Customer profile with profile 13,14,15"
   ]
  },
  {
   "cell_type": "code",
   "execution_count": 92,
   "id": "f0dd5254",
   "metadata": {},
   "outputs": [],
   "source": [
    "insta_grocery.loc[(insta_grocery[ 'Age_category']=='Middle_age') & (insta_grocery['income_category']=='Low_income') & (insta_grocery['Family_category']=='Married'),'customer_profile']=\"Middle_age-Low_income-Married\""
   ]
  },
  {
   "cell_type": "code",
   "execution_count": 93,
   "id": "f7b99830",
   "metadata": {},
   "outputs": [],
   "source": [
    "insta_grocery.loc[(insta_grocery[ 'Age_category']=='Middle_age') & (insta_grocery['income_category']=='Middle_income') & (insta_grocery['Family_category']=='Married'),'customer_profile']=\"Middle_age-Middle_income-Married\""
   ]
  },
  {
   "cell_type": "code",
   "execution_count": 94,
   "id": "e1927f08",
   "metadata": {},
   "outputs": [],
   "source": [
    "insta_grocery.loc[(insta_grocery[ 'Age_category']=='Middle_age') & (insta_grocery['income_category']=='High_income') & (insta_grocery['Family_category']=='Married'),'customer_profile']=\"Middle_age-High_income-Married\""
   ]
  },
  {
   "cell_type": "markdown",
   "id": "17e9c03d",
   "metadata": {},
   "source": [
    "## Create a Customer profile with profile 16,17,18"
   ]
  },
  {
   "cell_type": "code",
   "execution_count": 95,
   "id": "09e0a54e",
   "metadata": {},
   "outputs": [],
   "source": [
    "insta_grocery.loc[(insta_grocery[ 'Age_category']=='Senior_citizen') & (insta_grocery['income_category']=='Low_income') & (insta_grocery['Family_category']=='Married'),'customer_profile']=\"Senior_citizen-Low_income-Married\""
   ]
  },
  {
   "cell_type": "code",
   "execution_count": 96,
   "id": "6fd1872a",
   "metadata": {},
   "outputs": [],
   "source": [
    "insta_grocery.loc[(insta_grocery[ 'Age_category']=='Senior_citizen') & (insta_grocery['income_category']=='Middle_income') & (insta_grocery['Family_category']=='Married'),'customer_profile']=\"Senior_citizen-Middle_income-Married\""
   ]
  },
  {
   "cell_type": "code",
   "execution_count": 97,
   "id": "d6229d21",
   "metadata": {},
   "outputs": [],
   "source": [
    "insta_grocery.loc[(insta_grocery[ 'Age_category']=='Senior_citizen') & (insta_grocery['income_category']=='High_income') & (insta_grocery['Family_category']=='Married'),'customer_profile']=\"Senior_citizen-High income-Married\""
   ]
  },
  {
   "cell_type": "code",
   "execution_count": 100,
   "id": "a43ea0b5",
   "metadata": {},
   "outputs": [
    {
     "data": {
      "text/plain": [
       "customer_profile\n",
       "Middle_age-Middle_income-Married        5737865\n",
       "Middle_age-High_income-Married          3366928\n",
       "Senior_citizen-Middle_income-Married    3003430\n",
       "Middle_age-Low_income-Married           2478126\n",
       "Senior_citizen-High income-Married      2366940\n",
       "Young_adult-Middle_income-Married       2076619\n",
       "Middle_age-Middle_income-Single         1915831\n",
       "Young_adult-Low_income-Married          1865367\n",
       "Young_adult-Middle_income-Single        1748087\n",
       "Young_adult-Low_income-Single           1512981\n",
       "Middle_age-High_income-Single           1154716\n",
       "Senior_citizen-Middle_income-Single     1000466\n",
       "Middle_age-Low_income-Single             830420\n",
       "Senior_citizen-Low_income-Married        803216\n",
       "Senior_citizen-High_income-Single        770597\n",
       "Senior_citizen-Low_income-Single         250895\n",
       "Young_adult-High_income-married           45220\n",
       "Young_adult-High_income-Single            36860\n",
       "Name: count, dtype: int64"
      ]
     },
     "execution_count": 100,
     "metadata": {},
     "output_type": "execute_result"
    }
   ],
   "source": [
    "# frequency of customer_profile\n",
    "\n",
    "insta_grocery['customer_profile'].value_counts(dropna=False)"
   ]
  },
  {
   "cell_type": "code",
   "execution_count": 101,
   "id": "e7cb6f1e",
   "metadata": {},
   "outputs": [],
   "source": [
    "# Export dataframe to Prepared Data foler as 'profilingdata.pkl' file\n",
    "\n",
    "insta_grocery.to_pickle(os.path.join(path,'02 Data','Prepared Data','profiling_final.pkl'))"
   ]
  }
 ],
 "metadata": {
  "kernelspec": {
   "display_name": "Python 3 (ipykernel)",
   "language": "python",
   "name": "python3"
  },
  "language_info": {
   "codemirror_mode": {
    "name": "ipython",
    "version": 3
   },
   "file_extension": ".py",
   "mimetype": "text/x-python",
   "name": "python",
   "nbconvert_exporter": "python",
   "pygments_lexer": "ipython3",
   "version": "3.11.5"
  }
 },
 "nbformat": 4,
 "nbformat_minor": 5
}
