{
 "cells": [
  {
   "cell_type": "code",
   "execution_count": 1,
   "id": "d4831ec3",
   "metadata": {},
   "outputs": [],
   "source": [
    "# Import libraries\n",
    "import pandas as pd\n",
    "import numpy as np\n",
    "import os"
   ]
  },
  {
   "cell_type": "markdown",
   "id": "c1e2bbd2",
   "metadata": {},
   "source": [
    "# 02. Data Types"
   ]
  },
  {
   "cell_type": "code",
   "execution_count": 2,
   "id": "dcaddd47",
   "metadata": {},
   "outputs": [],
   "source": [
    "x = 2"
   ]
  },
  {
   "cell_type": "code",
   "execution_count": 3,
   "id": "d65a1b72",
   "metadata": {},
   "outputs": [
    {
     "data": {
      "text/plain": [
       "2"
      ]
     },
     "execution_count": 3,
     "metadata": {},
     "output_type": "execute_result"
    }
   ],
   "source": [
    "x"
   ]
  },
  {
   "cell_type": "code",
   "execution_count": 4,
   "id": "40f5f1a5",
   "metadata": {},
   "outputs": [
    {
     "name": "stdout",
     "output_type": "stream",
     "text": [
      "2\n"
     ]
    }
   ],
   "source": [
    "print(x)"
   ]
  },
  {
   "cell_type": "code",
   "execution_count": 5,
   "id": "94af5503",
   "metadata": {},
   "outputs": [
    {
     "data": {
      "text/plain": [
       "int"
      ]
     },
     "execution_count": 5,
     "metadata": {},
     "output_type": "execute_result"
    }
   ],
   "source": [
    "type(x)"
   ]
  },
  {
   "cell_type": "code",
   "execution_count": 6,
   "id": "3b3b8a29",
   "metadata": {},
   "outputs": [],
   "source": [
    "y = 5.678"
   ]
  },
  {
   "cell_type": "code",
   "execution_count": 7,
   "id": "3a71c4b4",
   "metadata": {},
   "outputs": [
    {
     "data": {
      "text/plain": [
       "float"
      ]
     },
     "execution_count": 7,
     "metadata": {},
     "output_type": "execute_result"
    }
   ],
   "source": [
    "type(y)"
   ]
  },
  {
   "cell_type": "code",
   "execution_count": 8,
   "id": "6c389303",
   "metadata": {},
   "outputs": [],
   "source": [
    "z = 'Brazil'"
   ]
  },
  {
   "cell_type": "code",
   "execution_count": 9,
   "id": "e7d0afc6",
   "metadata": {},
   "outputs": [
    {
     "data": {
      "text/plain": [
       "str"
      ]
     },
     "execution_count": 9,
     "metadata": {},
     "output_type": "execute_result"
    }
   ],
   "source": [
    "type(z)"
   ]
  },
  {
   "cell_type": "code",
   "execution_count": 10,
   "id": "dae02088",
   "metadata": {},
   "outputs": [
    {
     "data": {
      "text/plain": [
       "str"
      ]
     },
     "execution_count": 10,
     "metadata": {},
     "output_type": "execute_result"
    }
   ],
   "source": [
    "type('Mania')"
   ]
  },
  {
   "cell_type": "code",
   "execution_count": 11,
   "id": "3390730b",
   "metadata": {},
   "outputs": [
    {
     "data": {
      "text/plain": [
       "bool"
      ]
     },
     "execution_count": 11,
     "metadata": {},
     "output_type": "execute_result"
    }
   ],
   "source": [
    "type(True)"
   ]
  },
  {
   "cell_type": "code",
   "execution_count": 12,
   "id": "e13b96ad",
   "metadata": {},
   "outputs": [
    {
     "data": {
      "text/plain": [
       "bool"
      ]
     },
     "execution_count": 12,
     "metadata": {},
     "output_type": "execute_result"
    }
   ],
   "source": [
    "type(False)"
   ]
  },
  {
   "cell_type": "code",
   "execution_count": 13,
   "id": "8a1444cc",
   "metadata": {},
   "outputs": [
    {
     "name": "stdout",
     "output_type": "stream",
     "text": [
      "2\n"
     ]
    }
   ],
   "source": [
    "print(x)"
   ]
  },
  {
   "cell_type": "code",
   "execution_count": 14,
   "id": "af925eb2",
   "metadata": {},
   "outputs": [
    {
     "data": {
      "text/plain": [
       "6"
      ]
     },
     "execution_count": 14,
     "metadata": {},
     "output_type": "execute_result"
    }
   ],
   "source": [
    "x + 4"
   ]
  },
  {
   "cell_type": "code",
   "execution_count": 15,
   "id": "a88ecd9d",
   "metadata": {},
   "outputs": [],
   "source": [
    "x = x + 4"
   ]
  },
  {
   "cell_type": "code",
   "execution_count": 16,
   "id": "d54e1bd2",
   "metadata": {},
   "outputs": [
    {
     "name": "stdout",
     "output_type": "stream",
     "text": [
      "6\n"
     ]
    }
   ],
   "source": [
    "print(x)"
   ]
  },
  {
   "cell_type": "code",
   "execution_count": 17,
   "id": "2a09af7d",
   "metadata": {},
   "outputs": [],
   "source": [
    "a = 'Hello,' "
   ]
  },
  {
   "cell_type": "code",
   "execution_count": 18,
   "id": "a611fc90",
   "metadata": {},
   "outputs": [],
   "source": [
    "b = 'Marley'"
   ]
  },
  {
   "cell_type": "code",
   "execution_count": 19,
   "id": "2ec3ce66",
   "metadata": {},
   "outputs": [
    {
     "data": {
      "text/plain": [
       "'Hello,Marley'"
      ]
     },
     "execution_count": 19,
     "metadata": {},
     "output_type": "execute_result"
    }
   ],
   "source": [
    "a + b"
   ]
  },
  {
   "cell_type": "code",
   "execution_count": 20,
   "id": "5cc9dad7",
   "metadata": {},
   "outputs": [],
   "source": [
    "n = 'potato'"
   ]
  },
  {
   "cell_type": "code",
   "execution_count": 21,
   "id": "85b5015e",
   "metadata": {},
   "outputs": [
    {
     "data": {
      "text/plain": [
       "'potatopotatopotatopotatopotatopotatopotatopotatopotatopotatopotatopotato'"
      ]
     },
     "execution_count": 21,
     "metadata": {},
     "output_type": "execute_result"
    }
   ],
   "source": [
    "n * 12"
   ]
  },
  {
   "cell_type": "code",
   "execution_count": 22,
   "id": "187da470",
   "metadata": {},
   "outputs": [
    {
     "data": {
      "text/plain": [
       "False"
      ]
     },
     "execution_count": 22,
     "metadata": {},
     "output_type": "execute_result"
    }
   ],
   "source": [
    "x == y"
   ]
  },
  {
   "cell_type": "code",
   "execution_count": 23,
   "id": "4515ea59",
   "metadata": {},
   "outputs": [
    {
     "data": {
      "text/plain": [
       "bool"
      ]
     },
     "execution_count": 23,
     "metadata": {},
     "output_type": "execute_result"
    }
   ],
   "source": [
    "type(x == y)"
   ]
  },
  {
   "cell_type": "markdown",
   "id": "b60b77ba",
   "metadata": {},
   "source": [
    "# 4.2 Question 7"
   ]
  },
  {
   "cell_type": "code",
   "execution_count": 24,
   "id": "1918ce25",
   "metadata": {},
   "outputs": [],
   "source": [
    "j = 5"
   ]
  },
  {
   "cell_type": "code",
   "execution_count": 25,
   "id": "d25d0e27",
   "metadata": {},
   "outputs": [],
   "source": [
    "k = 20"
   ]
  },
  {
   "cell_type": "code",
   "execution_count": 26,
   "id": "3285488b",
   "metadata": {},
   "outputs": [
    {
     "data": {
      "text/plain": [
       "100"
      ]
     },
     "execution_count": 26,
     "metadata": {},
     "output_type": "execute_result"
    }
   ],
   "source": [
    "j * k"
   ]
  },
  {
   "cell_type": "code",
   "execution_count": 27,
   "id": "5b5dac48",
   "metadata": {},
   "outputs": [],
   "source": [
    "l = 75"
   ]
  },
  {
   "cell_type": "code",
   "execution_count": 28,
   "id": "75872310",
   "metadata": {},
   "outputs": [],
   "source": [
    "m = 25"
   ]
  },
  {
   "cell_type": "code",
   "execution_count": 29,
   "id": "9ab44b52",
   "metadata": {},
   "outputs": [
    {
     "data": {
      "text/plain": [
       "100"
      ]
     },
     "execution_count": 29,
     "metadata": {},
     "output_type": "execute_result"
    }
   ],
   "source": [
    "l + m"
   ]
  },
  {
   "cell_type": "code",
   "execution_count": 30,
   "id": "e4aaddc0",
   "metadata": {},
   "outputs": [],
   "source": [
    "n = 150"
   ]
  },
  {
   "cell_type": "code",
   "execution_count": 31,
   "id": "f931b981",
   "metadata": {},
   "outputs": [],
   "source": [
    "o = 50"
   ]
  },
  {
   "cell_type": "code",
   "execution_count": 32,
   "id": "854b3725",
   "metadata": {},
   "outputs": [
    {
     "data": {
      "text/plain": [
       "100"
      ]
     },
     "execution_count": 32,
     "metadata": {},
     "output_type": "execute_result"
    }
   ],
   "source": [
    "n - o"
   ]
  },
  {
   "cell_type": "markdown",
   "id": "c8d085ed",
   "metadata": {},
   "source": [
    "# 4.2 Question 8"
   ]
  },
  {
   "cell_type": "code",
   "execution_count": 33,
   "id": "883e5dd6",
   "metadata": {},
   "outputs": [],
   "source": [
    "apples = 6.5"
   ]
  },
  {
   "cell_type": "code",
   "execution_count": 34,
   "id": "d77bea03",
   "metadata": {},
   "outputs": [],
   "source": [
    "cost = 1.99"
   ]
  },
  {
   "cell_type": "code",
   "execution_count": 35,
   "id": "9def3c7b",
   "metadata": {},
   "outputs": [
    {
     "data": {
      "text/plain": [
       "3.2663316582914574"
      ]
     },
     "execution_count": 35,
     "metadata": {},
     "output_type": "execute_result"
    }
   ],
   "source": [
    "apples / cost"
   ]
  },
  {
   "cell_type": "code",
   "execution_count": 36,
   "id": "7a9af2aa",
   "metadata": {},
   "outputs": [],
   "source": [
    "onion = 50.99"
   ]
  },
  {
   "cell_type": "code",
   "execution_count": 37,
   "id": "8cbfb1b7",
   "metadata": {},
   "outputs": [],
   "source": [
    "potato = 20.56"
   ]
  },
  {
   "cell_type": "code",
   "execution_count": 38,
   "id": "70460c02",
   "metadata": {},
   "outputs": [
    {
     "data": {
      "text/plain": [
       "2.480058365758755"
      ]
     },
     "execution_count": 38,
     "metadata": {},
     "output_type": "execute_result"
    }
   ],
   "source": [
    "onion / potato"
   ]
  },
  {
   "cell_type": "markdown",
   "id": "d85355ff",
   "metadata": {},
   "source": [
    "# 4.2 Question 9"
   ]
  },
  {
   "cell_type": "code",
   "execution_count": 39,
   "id": "6c33b75b",
   "metadata": {},
   "outputs": [],
   "source": [
    "beginning = 'pyt'"
   ]
  },
  {
   "cell_type": "code",
   "execution_count": 40,
   "id": "cac57e9c",
   "metadata": {},
   "outputs": [],
   "source": [
    "ending  = 'hon'"
   ]
  },
  {
   "cell_type": "code",
   "execution_count": 41,
   "id": "f645ae81",
   "metadata": {},
   "outputs": [
    {
     "data": {
      "text/plain": [
       "'python'"
      ]
     },
     "execution_count": 41,
     "metadata": {},
     "output_type": "execute_result"
    }
   ],
   "source": [
    "beginning + ending"
   ]
  },
  {
   "cell_type": "markdown",
   "id": "eb2ff578",
   "metadata": {},
   "source": [
    "# 4.2 Question 10"
   ]
  },
  {
   "cell_type": "code",
   "execution_count": 43,
   "id": "9c01d909",
   "metadata": {},
   "outputs": [],
   "source": [
    "a = 'Hello'"
   ]
  },
  {
   "cell_type": "code",
   "execution_count": 44,
   "id": "cbef5c81",
   "metadata": {},
   "outputs": [],
   "source": [
    "b = 'Stephenie'"
   ]
  },
  {
   "cell_type": "code",
   "execution_count": 45,
   "id": "75f083a5",
   "metadata": {},
   "outputs": [],
   "source": [
    "c = '!'"
   ]
  },
  {
   "cell_type": "code",
   "execution_count": 46,
   "id": "e1d404ad",
   "metadata": {},
   "outputs": [],
   "source": [
    "d = ' '"
   ]
  },
  {
   "cell_type": "code",
   "execution_count": 47,
   "id": "f6b84d86",
   "metadata": {},
   "outputs": [],
   "source": [
    "e = '.'"
   ]
  },
  {
   "cell_type": "code",
   "execution_count": 48,
   "id": "7784e721",
   "metadata": {},
   "outputs": [],
   "source": [
    "f = 'How'"
   ]
  },
  {
   "cell_type": "code",
   "execution_count": 49,
   "id": "fd3ce5ce",
   "metadata": {},
   "outputs": [],
   "source": [
    "g = 'are'"
   ]
  },
  {
   "cell_type": "code",
   "execution_count": 50,
   "id": "b3e2a63a",
   "metadata": {},
   "outputs": [],
   "source": [
    "h = 'you'"
   ]
  },
  {
   "cell_type": "code",
   "execution_count": 52,
   "id": "446fb674",
   "metadata": {},
   "outputs": [],
   "source": [
    "j = '?'"
   ]
  },
  {
   "cell_type": "code",
   "execution_count": 83,
   "id": "4c6a2600",
   "metadata": {},
   "outputs": [],
   "source": [
    "greeting = a + e + b + c"
   ]
  },
  {
   "cell_type": "code",
   "execution_count": 84,
   "id": "4e9033fb",
   "metadata": {},
   "outputs": [],
   "source": [
    "scentence = f + d + g + d + h + j"
   ]
  },
  {
   "cell_type": "code",
   "execution_count": 85,
   "id": "af1baaf1",
   "metadata": {},
   "outputs": [
    {
     "name": "stdout",
     "output_type": "stream",
     "text": [
      "Hello Stephenie! How are you?\n"
     ]
    }
   ],
   "source": [
    "print(greeting + d + scentence)"
   ]
  }
 ],
 "metadata": {
  "kernelspec": {
   "display_name": "Python 3 (ipykernel)",
   "language": "python",
   "name": "python3"
  },
  "language_info": {
   "codemirror_mode": {
    "name": "ipython",
    "version": 3
   },
   "file_extension": ".py",
   "mimetype": "text/x-python",
   "name": "python",
   "nbconvert_exporter": "python",
   "pygments_lexer": "ipython3",
   "version": "3.11.5"
  }
 },
 "nbformat": 4,
 "nbformat_minor": 5
}
